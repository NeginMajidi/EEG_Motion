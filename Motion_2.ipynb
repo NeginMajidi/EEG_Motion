{
 "cells": [
  {
   "cell_type": "code",
   "execution_count": 1,
   "metadata": {},
   "outputs": [],
   "source": [
    "import pandas as pd\n",
    "import numpy as np\n",
    "import matplotlib.pyplot as plt\n",
    "%matplotlib inline\n",
    "import os\n",
    "from hdf5storage import loadmat\n",
    "import h5py\n",
    "from scipy import signal\n",
    "import _pickle as pkl"
   ]
  },
  {
   "cell_type": "code",
   "execution_count": null,
   "metadata": {},
   "outputs": [
    {
     "name": "stdout",
     "output_type": "stream",
     "text": [
      "Patient {} is added! EEG data shape: (63, 2000, 1001)\n"
     ]
    }
   ],
   "source": [
    "Data_dir = 'D:\\Motion Data'\n",
    "mat_files_dir = os.path.join(Data_dir,'mat_files')\n",
    "pkl_file_dir = os.path.join(Data_dir,'pkl_file')\n",
    "\n",
    "Motion_data_file_name = os.path.join(pkl_file_dir, 'Motion_data.pkl')\n",
    "if os.path.exists(Motion_data_file_name):\n",
    "    with open(Motion_data_file_name, 'rb') as fp:\n",
    "        Motion_data = pkl.load(fp)\n",
    "else:\n",
    "    Motion_data = {}\n",
    "\n",
    "    \n",
    "chanlocs_columns = ['labels', 'type', 'theta', 'radius', 'X', 'Y', 'Z', 'sph_theta', 'sph_phi', 'sph_radius', 'urchan', 'ref']\n",
    "events_columns = ['latency', 'duration', 'channel', 'bvtime', 'bvmknum', 'type', 'code', 'urevent', 'epoch', 'motionCoherence',\n",
    "                  'motionDirection', 'accuracy', 'confidence', 'RT', 'directionDetected']\n",
    "patients = os.listdir(mat_files_dir)\n",
    "for patient in patients:\n",
    "    if patient in Motion_data.keys():\n",
    "        print('Patient {} already exists!'.format(patient))\n",
    "        continue\n",
    "    Motion_data[patient] = {'chanlocs':{}, 'events':{}}\n",
    "    patient_mat_file = loadmat(os.path.join(mat_files_dir, patient))\n",
    "    for chanlocs_column in chanlocs_columns:\n",
    "        Motion_data[patient]['chanlocs'][chanlocs_column] = patient_mat_file['chanlocs'][chanlocs_column]\n",
    "    for events_column in events_columns:\n",
    "        Motion_data[patient]['events'][events_column] = patient_mat_file['events'][events_column]\n",
    "    Motion_data[patient]['times'] = patient_mat_file['times']\n",
    "    Motion_data[patient]['srate'] = patient_mat_file['srate']\n",
    "    Motion_data[patient]['eegdat'] = patient_mat_file['eegdat']\n",
    "    \n",
    "    with open(Motion_data_file_name, 'wb') as fp:\n",
    "        pkl.dump(Motion_data, fp)\n",
    "    print('Patient {} is added! EEG data shape: ' + str(Motion_data[patient]['eegdat'].shape))"
   ]
  },
  {
   "cell_type": "code",
   "execution_count": null,
   "metadata": {},
   "outputs": [],
   "source": []
  }
 ],
 "metadata": {
  "kernelspec": {
   "display_name": "Python negin",
   "language": "python",
   "name": "negin"
  },
  "language_info": {
   "codemirror_mode": {
    "name": "ipython",
    "version": 3
   },
   "file_extension": ".py",
   "mimetype": "text/x-python",
   "name": "python",
   "nbconvert_exporter": "python",
   "pygments_lexer": "ipython3",
   "version": "3.6.9"
  }
 },
 "nbformat": 4,
 "nbformat_minor": 2
}
